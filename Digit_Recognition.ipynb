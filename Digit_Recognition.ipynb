{
 "cells": [
  {
   "cell_type": "markdown",
   "metadata": {
    "colab_type": "text",
    "id": "RCEu6VcNKBHp"
   },
   "source": [
    "# Handwritten Digit Recognition with Deep Learning\n",
    "\n",
    "In this hands-on exercise we are going to learn to use Convolutional Neural Networks (CNN) to recognize handwritten digits. \n",
    "\n",
    "The tools we are going to use for this exericse are :\n",
    "\n",
    "* **Tensorflow** - an open-source software library for dataflow programming across a range of tasks. It is a symbolic math library, and is also used for machine learning applications such as neural networks.\n",
    "\n",
    "\n",
    "* **Keras** - a heavyweight wrapper for Tensorflow. It’s minimalistic, modular, and awesome for rapid experimentation. This is our favorite Python library for deep learning and the best place to start for beginners.\n",
    "\n",
    "\n",
    "* **Google CoLab** - an implementation of the widely used open-source Jupyter Notebook that has most popular libraries used for machine learning already preinstalled. Its a perfect tool for rapid prototyping and experimentation.\n"
   ]
  },
  {
   "cell_type": "markdown",
   "metadata": {
    "colab_type": "text",
    "id": "Gh5T7R7cKBHq"
   },
   "source": [
    "# Step 1 - Import libraries and modules"
   ]
  },
  {
   "cell_type": "code",
   "execution_count": null,
   "metadata": {
    "colab": {
     "base_uri": "https://localhost:8080/",
     "height": 34
    },
    "colab_type": "code",
    "executionInfo": {
     "elapsed": 1940,
     "status": "ok",
     "timestamp": 1540468160960,
     "user": {
      "displayName": "Aris Kalgreadis",
      "photoUrl": "https://lh5.googleusercontent.com/-qt4PVauU1Wg/AAAAAAAAAAI/AAAAAAAAAx4/XCQoAIA1m3E/s64/photo.jpg",
      "userId": "04121733159617386856"
     },
     "user_tz": -120
    },
    "id": "FoAM4C-cKBHs",
    "outputId": "48787c41-e1db-48a7-97ee-4eca8a9ef430"
   },
   "outputs": [],
   "source": [
    "import keras\n",
    "# Import the sequential model, which is a linear stack of layers\n",
    "from keras.models import Sequential\n",
    "# Import the core layers that are used in almost any neural netwrok\n",
    "from keras.layers import Dense, Dropout, Flatten\n",
    "# Import the Convulotional Layers\n",
    "from keras.layers import Conv2D, MaxPooling2D\n",
    "from keras import backend as K"
   ]
  },
  {
   "cell_type": "markdown",
   "metadata": {
    "colab_type": "text",
    "id": "fr0aIBpjKBHx"
   },
   "source": [
    "# Step 2 - Import the MNIST dataset\n",
    "\n",
    "The MNIST database of handwritten digits has a training set of 60,000 examples, and a test set of 10,000 examples. The digits have been size-normalized and centered in a fixed-size image. Each image is a **28 by 28** pixel square (**784** pixels total).\n",
    "\n",
    "It is a good database for people who want to try learning techniques and pattern recognition methods on real-world data while spending minimal efforts on preprocessing and formatting. \n",
    "\n",
    "Lets load the data and visualize some of the images:"
   ]
  },
  {
   "cell_type": "code",
   "execution_count": null,
   "metadata": {
    "colab": {
     "base_uri": "https://localhost:8080/",
     "height": 396
    },
    "colab_type": "code",
    "executionInfo": {
     "elapsed": 4293,
     "status": "ok",
     "timestamp": 1540468165283,
     "user": {
      "displayName": "Aris Kalgreadis",
      "photoUrl": "https://lh5.googleusercontent.com/-qt4PVauU1Wg/AAAAAAAAAAI/AAAAAAAAAx4/XCQoAIA1m3E/s64/photo.jpg",
      "userId": "04121733159617386856"
     },
     "user_tz": -120
    },
    "id": "q8O8p8UwKBHy",
    "outputId": "0a339df4-6fb7-4908-a140-5624cf92a0d9"
   },
   "outputs": [],
   "source": [
    "from keras.datasets import mnist\n",
    "import matplotlib.pyplot as plt\n",
    "\n",
    "(X_train, y_train), (X_test, y_test) = mnist.load_data()\n",
    "\n",
    "for i in range(1,10):\n",
    "    plt.subplot(330 + i)\n",
    "    plt.imshow(X_train[i], cmap=plt.get_cmap('gray'))\n",
    "    plt.title(y_train[i])\n",
    "    \n",
    "plt.show()"
   ]
  },
  {
   "cell_type": "markdown",
   "metadata": {
    "colab_type": "text",
    "id": "FMkTdGVlKBH3"
   },
   "source": [
    "# Step 3 - Preprocess input data and class label for Keras\n",
    "\n",
    "The next step is to prepare our data for input into the CNN. In Keras, the layers used for two-dimensional convolutions expect pixel values with the dimensions [width][height][pixels]. \n",
    "\n",
    "In the case of RGB, the first dimension pixels would be 3 for the red, green and blue components and it would be like having 3 image inputs for every color image. In the case of MNIST where the pixel values are gray scale, the pixel dimension is set to 1.\n",
    "\n",
    "It is also a good idea to normalize the pixel values to the range 0 and 1 and one hot encode the output variables."
   ]
  },
  {
   "cell_type": "code",
   "execution_count": null,
   "metadata": {
    "colab": {
     "base_uri": "https://localhost:8080/",
     "height": 85
    },
    "colab_type": "code",
    "executionInfo": {
     "elapsed": 1555,
     "status": "ok",
     "timestamp": 1540468166878,
     "user": {
      "displayName": "Aris Kalgreadis",
      "photoUrl": "https://lh5.googleusercontent.com/-qt4PVauU1Wg/AAAAAAAAAAI/AAAAAAAAAx4/XCQoAIA1m3E/s64/photo.jpg",
      "userId": "04121733159617386856"
     },
     "user_tz": -120
    },
    "id": "Rf8nio0rKBH4",
    "outputId": "556f7d11-8929-4c31-eb47-31e91760f946"
   },
   "outputs": [],
   "source": [
    "# reshape to be [samples][pixels][width][height]\n",
    "X_train = X_train.reshape(X_train.shape[0], 28, 28, 1).astype('float32')\n",
    "X_test = X_test.reshape(X_test.shape[0], 28, 28, 1).astype('float32')\n",
    "\n",
    "# normalize inputs from 0-255 to 0-1\n",
    "X_train = X_train / 255\n",
    "X_test = X_test / 255\n",
    "\n",
    "print('Dimensions of the training dataset:', X_train.shape)\n",
    "print('Number of training samples:', X_train.shape[0])\n",
    "print('Number of test samples: ',X_test.shape[0])\n",
    "\n",
    "# one hot encode outputs\n",
    "num_classes = 10;\n",
    "y_train = keras.utils.to_categorical(y_train, num_classes)\n",
    "y_test = keras.utils.to_categorical(y_test, num_classes)\n",
    "num_classes = y_test.shape[1]\n",
    "\n",
    "print('Dimensions of the training labels:', y_train.shape)"
   ]
  },
  {
   "cell_type": "markdown",
   "metadata": {
    "colab_type": "text",
    "id": "o0ixCQ34KBH8"
   },
   "source": [
    "# Step 4 - Design model architecture"
   ]
  },
  {
   "cell_type": "code",
   "execution_count": null,
   "metadata": {
    "colab": {
     "base_uri": "https://localhost:8080/",
     "height": 357
    },
    "colab_type": "code",
    "executionInfo": {
     "elapsed": 1225,
     "status": "ok",
     "timestamp": 1540468168171,
     "user": {
      "displayName": "Aris Kalgreadis",
      "photoUrl": "https://lh5.googleusercontent.com/-qt4PVauU1Wg/AAAAAAAAAAI/AAAAAAAAAx4/XCQoAIA1m3E/s64/photo.jpg",
      "userId": "04121733159617386856"
     },
     "user_tz": -120
    },
    "id": "4IkwZEk4KBH-",
    "outputId": "485217b3-f080-499b-b184-fcc64a60ff88"
   },
   "outputs": [],
   "source": [
    "model = Sequential()\n",
    "model.add(Conv2D(32, (5, 5), input_shape=(28, 28, 1), activation='relu'))\n",
    "model.add(MaxPooling2D(pool_size=(2, 2)))\n",
    "model.add(Dropout(0.2))\n",
    "model.add(Flatten())\n",
    "model.add(Dense(128, activation='relu'))\n",
    "model.add(Dense(num_classes, activation='softmax'))\n",
    "\n",
    "print(model.summary())"
   ]
  },
  {
   "cell_type": "markdown",
   "metadata": {
    "colab_type": "text",
    "id": "lhNRfaNXKBIC"
   },
   "source": [
    "# Step 5 - Compile and fit the model\n",
    "\n",
    "In order to compile the model we need to select a loss function and an optimizer. Keras offer a wide selection and you can find more information here: \n",
    "\n",
    "* Loss functions : https://keras.io/losses/\n",
    "* Optimizers: https://keras.io/optimizers/\n",
    "\n",
    "Before we are ready to fit our model we need to select two more parameters, batch size and number of epochs.\n",
    "\n",
    "* **Batch size** : defines the number of samples that will be propagated through the network. Advantages of using a batch size smaller that your total samples is memory usage and efficiency in training.\n",
    "\n",
    "* **Epochs** : The number of epochs is the number of times the model will cycle through the data. The more epochs we run, the more the model will improve, up to a certain point. After that point, the model will stop improving during each epoch.\n"
   ]
  },
  {
   "cell_type": "code",
   "execution_count": null,
   "metadata": {
    "colab": {
     "base_uri": "https://localhost:8080/",
     "height": 374
    },
    "colab_type": "code",
    "executionInfo": {
     "elapsed": 39647,
     "status": "ok",
     "timestamp": 1540468207957,
     "user": {
      "displayName": "Aris Kalgreadis",
      "photoUrl": "https://lh5.googleusercontent.com/-qt4PVauU1Wg/AAAAAAAAAAI/AAAAAAAAAx4/XCQoAIA1m3E/s64/photo.jpg",
      "userId": "04121733159617386856"
     },
     "user_tz": -120
    },
    "id": "m-Jm6Da0KBIC",
    "outputId": "f99058b6-07c7-401a-9720-eb39a2a50ce5"
   },
   "outputs": [],
   "source": [
    "#@title Fit parameters\n",
    "\n",
    "batch_size = 200 #@param {type:\"slider\", min:100, max:1000, step:10}\n",
    "epochs = 15 #@param {type: \"slider\", min: 1, max: 20}\n",
    "\n",
    "model.compile(loss='categorical_crossentropy',\n",
    "              optimizer='adam',\n",
    "              metrics=['accuracy'])\n",
    "\n",
    "history = model.fit(X_train, y_train,\n",
    "          batch_size=batch_size,\n",
    "          epochs=epochs,\n",
    "          verbose=1,\n",
    "          validation_data=(X_test, y_test))\n"
   ]
  },
  {
   "cell_type": "markdown",
   "metadata": {
    "colab_type": "text",
    "id": "gaJhwxfzKBIH"
   },
   "source": [
    "# Step  6 - Evaluation and visualization of results"
   ]
  },
  {
   "cell_type": "code",
   "execution_count": null,
   "metadata": {
    "colab": {
     "base_uri": "https://localhost:8080/",
     "height": 769
    },
    "colab_type": "code",
    "executionInfo": {
     "elapsed": 1876,
     "status": "ok",
     "timestamp": 1540468209894,
     "user": {
      "displayName": "Aris Kalgreadis",
      "photoUrl": "https://lh5.googleusercontent.com/-qt4PVauU1Wg/AAAAAAAAAAI/AAAAAAAAAx4/XCQoAIA1m3E/s64/photo.jpg",
      "userId": "04121733159617386856"
     },
     "user_tz": -120
    },
    "id": "P6V7GzKmKBIH",
    "outputId": "5ad32afd-c217-4ebc-cda0-af796c2af641"
   },
   "outputs": [],
   "source": [
    "score = model.evaluate(X_test, y_test, verbose=0)\n",
    "print('Test loss:', score[0])\n",
    "print('Test accuracy:', score[1])\n",
    "\n",
    "# Plot training & validation accuracy values\n",
    "plt.plot(history.history['acc'])\n",
    "plt.plot(history.history['val_acc'])\n",
    "plt.title('Model accuracy')\n",
    "plt.ylabel('Accuracy')\n",
    "plt.xlabel('Epoch')\n",
    "plt.legend(['Train', 'Test'], loc='upper left')\n",
    "plt.show()\n",
    "\n",
    "# Plot training & validation loss values\n",
    "plt.plot(history.history['loss'])\n",
    "plt.plot(history.history['val_loss'])\n",
    "plt.title('Model loss')\n",
    "plt.ylabel('Loss')\n",
    "plt.xlabel('Epoch')\n",
    "plt.legend(['Train', 'Test'], loc='upper left')\n",
    "plt.show()"
   ]
  },
  {
   "cell_type": "code",
   "execution_count": null,
   "metadata": {
    "colab": {},
    "colab_type": "code",
    "id": "cuyV5HerKBIO"
   },
   "outputs": [],
   "source": []
  }
 ],
 "metadata": {
  "accelerator": "GPU",
  "colab": {
   "name": "Digit_Recognition.ipynb",
   "provenance": [],
   "toc_visible": true,
   "version": "0.3.2"
  },
  "kernelspec": {
   "display_name": "Python 3",
   "language": "python",
   "name": "python3"
  },
  "language_info": {
   "codemirror_mode": {
    "name": "ipython",
    "version": 3
   },
   "file_extension": ".py",
   "mimetype": "text/x-python",
   "name": "python",
   "nbconvert_exporter": "python",
   "pygments_lexer": "ipython3",
   "version": "3.6.6"
  }
 },
 "nbformat": 4,
 "nbformat_minor": 1
}
