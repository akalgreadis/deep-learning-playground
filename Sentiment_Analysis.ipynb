{
  "nbformat": 4,
  "nbformat_minor": 0,
  "metadata": {
    "colab": {
      "name": "Sentiment_Analysis.ipynb",
      "version": "0.3.2",
      "provenance": [],
      "collapsed_sections": [],
      "toc_visible": true,
      "include_colab_link": true
    },
    "kernelspec": {
      "name": "python3",
      "display_name": "Python 3",
      "language": "python"
    }
  },
  "cells": [
    {
      "cell_type": "markdown",
      "metadata": {
        "id": "view-in-github",
        "colab_type": "text"
      },
      "source": [
        "<a href=\"https://colab.research.google.com/github/akalgreadis/deep-learning-playground/blob/master/Sentiment_Analysis.ipynb\" target=\"_parent\"><img src=\"https://colab.research.google.com/assets/colab-badge.svg\" alt=\"Open In Colab\"/></a>"
      ]
    },
    {
      "metadata": {
        "id": "6KxVXIWjohky",
        "colab_type": "text"
      },
      "cell_type": "markdown",
      "source": [
        "# Deep learning Sentiment Analysis\n",
        "\n",
        "In this hands-on exercise we are going to learn to use Recurrent Neural Network (RNN) to perform sentiment analysis on movie reviews. \n",
        "\n",
        "The tools we are going to use for this exercise are :\n",
        "\n",
        "* **Tensorflow** - an open-source software library for dataflow programming across a range of tasks. It is a symbolic math library, and is also used for machine learning applications such as neural networks.\n",
        "\n",
        "\n",
        "* **Keras** - a heavyweight wrapper for Tensorflow. It’s minimalistic, modular, and awesome for rapid experimentation. This is our favorite Python library for deep learning and the best place to start for beginners.\n",
        "\n",
        "\n",
        "* **Google CoLab** - an implementation of the widely used open-source Jupyter Notebook that has most popular libraries used for machine learning already preinstalled. Its a perfect tool for rapid prototyping and experimentation.\n"
      ]
    },
    {
      "metadata": {
        "trusted": true,
        "id": "Wa-WVdcyohk_",
        "colab_type": "code",
        "colab": {
          "base_uri": "https://localhost:8080/",
          "height": 218
        },
        "outputId": "2183e3f2-aa39-4594-bde3-3ec89a32d24f"
      },
      "cell_type": "code",
      "source": [
        "from IPython.display import Image\n",
        "Image('https://preview.ibb.co/bC0Kfq/sentiment-Analysis-Workshop.jpg')"
      ],
      "execution_count": 1,
      "outputs": [
        {
          "output_type": "execute_result",
          "data": {
            "image/jpeg": "[encoded data removed]",
            "text/plain": [
              "<IPython.core.display.Image object>"
            ]
          },
          "metadata": {
            "tags": []
          },
          "execution_count": 1
        }
      ]
    },
    {
      "metadata": {
        "id": "C-2E5p2dohkz",
        "colab_type": "text"
      },
      "cell_type": "markdown",
      "source": [
        "# Step 1 - Import libraries and modules"
      ]
    },
    {
      "metadata": {
        "trusted": true,
        "id": "edIyyG81ohk1",
        "colab_type": "code",
        "colab": {}
      },
      "cell_type": "code",
      "source": [
        "import pandas as pd\n",
        "import numpy \n",
        "import keras\n",
        "# Import the sequential model, which is a linear stack of layers\n",
        "from keras.models import Sequential \n",
        "# Import the core layers that are used in almost any neural netwrok\n",
        "from keras.layers import Dense, Dropout, Flatten\n",
        "# Import the LSTM layer which is commonly used in RNN's\n",
        "from keras.layers import LSTM \n",
        "from keras.layers.embeddings import Embedding \n",
        "from keras.callbacks import TensorBoard\n",
        "from numpy import array"
      ],
      "execution_count": 0,
      "outputs": []
    },
    {
      "metadata": {
        "id": "n2jAjEVFohk4",
        "colab_type": "text"
      },
      "cell_type": "markdown",
      "source": [
        "#Step 2 - Import the IMDb dataset \n",
        "\n",
        "As a first step, we will load the Internet Movie Database (IMDB) dataset, which is already part of the Keras datasets.\n",
        "\n",
        "The dataset consists of 25,000 movies reviews from IMDb, labeled by sentiment (positive/negative). Reviews have been preprocessed, and each review is encoded as a sequence of word indexes (integers). For convenience, words are indexed by overall frequency in the dataset, so that for instance the integer \"3\" encodes the 3rd most frequent word in the data. This allows for quick filtering operations such as: \"only consider the top 10,000 most common words, but eliminate the top 20 most common words\"."
      ]
    },
    {
      "metadata": {
        "trusted": true,
        "id": "Y7ADou88ohk6",
        "colab_type": "code",
        "colab": {}
      },
      "cell_type": "code",
      "source": [
        "from keras.datasets import imdb \n",
        "# Define the n most common words we want to load\n",
        "top_words = 5000\n",
        "# Load the train and test datasets\n",
        "(x_train, y_train), (x_test, y_test) = imdb.load_data(num_words=top_words)"
      ],
      "execution_count": 0,
      "outputs": []
    },
    {
      "metadata": {
        "id": "Jw_JsUzjpWp8",
        "colab_type": "text"
      },
      "cell_type": "markdown",
      "source": [
        "# Step 3 - Preprocess input data"
      ]
    },
    {
      "metadata": {
        "id": "AnQ-VpT1mbKL",
        "colab_type": "text"
      },
      "cell_type": "markdown",
      "source": [
        "## Print movie review example \n",
        "\n",
        "Let's print an example of a movie review from the dataset.\n",
        "\n",
        "We only loaded the 5000 most common words from the dataset, therefore some words migh appear as < UNKNOWN >."
      ]
    },
    {
      "metadata": {
        "id": "mbmZd_C-msqi",
        "colab_type": "code",
        "colab": {}
      },
      "cell_type": "code",
      "source": [
        "# Load the word indices such that we can convert the integers representations of the words in the dataset to strings\n",
        "word_to_id = imdb.get_word_index()\n",
        "word_to_id = {k:(v+3) for k,v in word_to_id.items()}\n",
        "word_to_id[\"<PAD>\"] = 0\n",
        "word_to_id[\"<START>\"] = 1\n",
        "word_to_id[\"<UNKOWN>\"] = 2\n",
        "\n",
        "id_to_word = {value:key for key,value in word_to_id.items()}\n",
        "\n",
        "# Define the review to print, try changing this number to see the print for different reviews\n",
        "review_number = 0\n",
        "# Print the review text\n",
        "print(' '.join(id_to_word[id] for id in x_train[review_number] ))\n",
        "# Print the sentiment of the review, 0 represents a negative review, 1 represents a positive review\n",
        "print('sentiment = ', y_train[review_number] )"
      ],
      "execution_count": 0,
      "outputs": []
    },
    {
      "metadata": {
        "id": "ojsaybHlmtYb",
        "colab_type": "text"
      },
      "cell_type": "markdown",
      "source": [
        "## Preprocess data\n",
        "Not all reviews contain the same number of words, we will truncate the reviews in both the training and test datasets to a maximum number of words of 500."
      ]
    },
    {
      "metadata": {
        "trusted": true,
        "id": "vzDlPC3FohlC",
        "colab_type": "code",
        "colab": {}
      },
      "cell_type": "code",
      "source": [
        "# Truncate and pad the review sequences\n",
        "from keras.preprocessing import sequence \n",
        "max_review_length = 500 \n",
        "x_train = sequence.pad_sequences(x_train, maxlen=max_review_length) \n",
        "x_test = sequence.pad_sequences(x_test, maxlen=max_review_length) \n",
        "\n",
        "# Print the shape of the datasets, which should have a size of: \n",
        "# total number of reviews X number of words in the reviews\n",
        "print('x_train shape:', x_train.shape)\n",
        "print('x_test shape:', x_test.shape)"
      ],
      "execution_count": 0,
      "outputs": []
    },
    {
      "metadata": {
        "id": "x6tNcy9t8nFB",
        "colab_type": "text"
      },
      "cell_type": "markdown",
      "source": [
        "##Print data sample\n",
        "\n",
        "If you run the cell below, we will print the first reviews.\n",
        "\n",
        "If you look at the data you will realize it has been already pre-processed. All words have been mapped to integers and the integers represent the words sorted by their frequency. It is very common in text analysis to represent a dataset like this. So 4 represents the 4th most used word, 5 the 5th most used word and so on"
      ]
    },
    {
      "metadata": {
        "trusted": true,
        "id": "5dNXowMWohlK",
        "colab_type": "code",
        "colab": {}
      },
      "cell_type": "code",
      "source": [
        "# Print the first reviews.\n",
        "pd.DataFrame(x_train).head()"
      ],
      "execution_count": 0,
      "outputs": []
    },
    {
      "metadata": {
        "id": "X-vecLYPohlO",
        "colab_type": "text"
      },
      "cell_type": "markdown",
      "source": [
        "# Step 4 - Design model architecture\n",
        "\n",
        "The next step is to create the model that will be trained. We will use the Keras Sequential model, which is a linear stack of layers. For more information see https://keras.io/getting-started/sequential-model-guide/.\n",
        "\n",
        "* The first layer is an embedding layer. https://keras.io/layers/embeddings/\n",
        "\n",
        "* The second layer is a Long Short Term Memory (LSTM) layer, which is a type of recurrent layer. \n",
        "\n",
        "* The third layer is a fully connected layer.\n",
        "\n",
        "The last step is to compile the model, for which we need to select both a loss function and an optimizer. Keras offer a wide selection and you can find more information here: \n",
        "\n",
        "* Loss functions : https://keras.io/losses/\n",
        "* Optimizers: https://keras.io/optimizers/\n"
      ]
    },
    {
      "metadata": {
        "trusted": true,
        "id": "kgjTChkwohlP",
        "colab_type": "code",
        "colab": {}
      },
      "cell_type": "code",
      "source": [
        "embedding_vector_length = 32  #@param {type:\"slider\", min:16, max:64, step:16}\n",
        "number_recurrents = 4  #@param {type:\"slider\", min:2, max:10, step:1}\n",
        "\n",
        "# Create the model and add layers\n",
        "model = Sequential() \n",
        "model.add(Embedding(top_words, embedding_vector_length, input_length=max_review_length)) \n",
        "model.add(LSTM(number_recurrents))\n",
        "model.add(Dense(1, activation='sigmoid')) \n",
        "# Compile the model with the selected loss function and optimizer\n",
        "model.compile(loss='binary_crossentropy',optimizer='adam', metrics=['accuracy']) \n",
        "print(model.summary())"
      ],
      "execution_count": 0,
      "outputs": []
    },
    {
      "metadata": {
        "id": "fdWFgGBfohlY",
        "colab_type": "text"
      },
      "cell_type": "markdown",
      "source": [
        "# Step 5 - Train the model\n",
        "\n",
        "Before we are ready to fit our model we need to select two more parameters, batch size and number of epochs.\n",
        "\n",
        "* **Batch size** : defines the number of samples that will be propagated through the network. Advantages of using a batch size smaller that your total samples is memory usage and efficiency in training.\n",
        "\n",
        "* **Epochs** : The number of epochs is the number of times the model will cycle through the data. The more epochs we run, the more the model will improve, up to a certain point. After that point, the model will stop improving during each epoch.\n",
        "\n",
        "We will then fit the model which we defined in the previous step. This should take a little over 2 minutes per epoch. Notice that the training loss decreases and the accuracy increases over time."
      ]
    },
    {
      "metadata": {
        "scrolled": true,
        "trusted": true,
        "id": "pbJJs61pohla",
        "colab_type": "code",
        "colab": {}
      },
      "cell_type": "code",
      "source": [
        "#@title Define model parameter values\n",
        "batch_size = 64 #@param {type:\"slider\", min:0, max:128, step:32}\n",
        "epochs = 3 #@param {type: \"slider\", min: 1, max: 8}\n",
        "\n",
        "early_stopping = keras.callbacks.EarlyStopping(monitor='val_loss', patience=10, verbose=1)\n",
        "checkpoint = keras.callbacks.ModelCheckpoint(filepath=\"best_weights.hdf5\", monitor='val_loss', verbose=1, save_best_only=True)\n",
        "callbacks = [early_stopping, checkpoint]\n",
        "\n",
        "convergence_history = model.fit(x_train, y_train, validation_data=(x_test, y_test), epochs=epochs, batch_size=batch_size, callbacks=callbacks)"
      ],
      "execution_count": 0,
      "outputs": []
    },
    {
      "metadata": {
        "id": "1BpNKjEnGDm-",
        "colab_type": "text"
      },
      "cell_type": "markdown",
      "source": [
        "#Step 6 - Validation"
      ]
    },
    {
      "metadata": {
        "id": "4X2-ab2X0EZi",
        "colab_type": "code",
        "colab": {}
      },
      "cell_type": "code",
      "source": [
        "import matplotlib.pyplot as plt\n",
        "\n",
        "# Plot training & validation accuracy values\n",
        "plt.figure(figsize=(12,8))\n",
        "plt.plot(convergence_history.history['acc'])\n",
        "plt.plot(convergence_history.history['val_acc'])\n",
        "plt.title('Model accuracy')\n",
        "plt.ylabel('Accuracy')\n",
        "plt.xlabel('Epoch')\n",
        "plt.legend(['Train', 'Test'], loc='upper left')\n",
        "plt.show()"
      ],
      "execution_count": 0,
      "outputs": []
    },
    {
      "metadata": {
        "id": "B6hp9x4dMR4G",
        "colab_type": "code",
        "colab": {}
      },
      "cell_type": "code",
      "source": [
        "# Plot training & validation loss values\n",
        "plt.figure(figsize=(12,8))\n",
        "plt.plot(convergence_history.history['loss'], label=\"Training loss\")\n",
        "plt.plot(convergence_history.history['val_loss'], label=\"Validation loss\")\n",
        "plt.grid(\"on\")\n",
        "plt.xlabel(\"Epoch\")\n",
        "plt.ylabel(\"Loss\")\n",
        "plt.legend()\n",
        "plt.show()"
      ],
      "execution_count": 0,
      "outputs": []
    },
    {
      "metadata": {
        "id": "FxPmtZR9ohle",
        "colab_type": "text"
      },
      "cell_type": "markdown",
      "source": [
        "# Step 7 - Evaluate the model\n",
        "\n",
        "Use the test data to calculate the accuracy of the trained model."
      ]
    },
    {
      "metadata": {
        "trusted": true,
        "id": "BHsubm8Xohlg",
        "colab_type": "code",
        "colab": {}
      },
      "cell_type": "code",
      "source": [
        "scores = model.evaluate(x_test, y_test, verbose=1) \n",
        "print(\"Accuracy: %.2f%%\" % (scores[1]*100))"
      ],
      "execution_count": 0,
      "outputs": []
    },
    {
      "metadata": {
        "id": "u-ytA_TWohlq",
        "colab_type": "text"
      },
      "cell_type": "markdown",
      "source": [
        "# Step 8 - Use the trained model\n",
        "Predict sentiment from the reviews:\n",
        "\n",
        "\"this movie was terrible and bad\"\n",
        "\"i really liked the movie and had fun\""
      ]
    },
    {
      "metadata": {
        "trusted": true,
        "id": "eHbsaAIPohlr",
        "colab_type": "code",
        "colab": {}
      },
      "cell_type": "code",
      "source": [
        "bad = \"this movie was terrible and bad\"\n",
        "good = \"i really liked the movie and had fun\"\n",
        "for review in [good,bad]:\n",
        "    tmp = []\n",
        "    for word in review.split(\" \"):\n",
        "        tmp.append(word_to_id[word])\n",
        "    tmp_padded = sequence.pad_sequences([tmp], maxlen=max_review_length) \n",
        "    print(\"%s. Sentiment: %s\" % (review,model.predict(array([tmp_padded][0]))[0][0]))"
      ],
      "execution_count": 0,
      "outputs": []
    },
    {
      "metadata": {
        "id": "ifF9Bp9QCqnQ",
        "colab_type": "text"
      },
      "cell_type": "markdown",
      "source": [
        "Now predict your own sentences with the trained model"
      ]
    },
    {
      "metadata": {
        "id": "StOHJEDKST_z",
        "colab_type": "code",
        "colab": {}
      },
      "cell_type": "code",
      "source": [
        "import string\n",
        "#@title Define your review and predict the sentiment\n",
        "badReview = \"\" #@param {type:\"string\"}\n",
        "goodReview = \"\" #@param {type:\"string\"}\n",
        "\n",
        "if badReview == \"\" or goodReview == \"\":\n",
        "  print(\"Please provide a good and a bad review.\")\n",
        "else :\n",
        "  exclude = set(string.punctuation)\n",
        "  for review in [badReview,goodReview]:\n",
        "      review = ''.join(ch for ch in review.lower() if ch not in exclude)\n",
        "      tmp = []\n",
        "      for word in review.split(\" \"):\n",
        "        if word in word_to_id:\n",
        "          if word_to_id[word] < top_words:\n",
        "            tmp.append(word_to_id[word])\n",
        "      tmp_padded = sequence.pad_sequences([tmp], maxlen=max_review_length) \n",
        "      print(\"%s. Sentiment: %s\" % (review, model.predict(array([tmp_padded][0]))[0][0]))"
      ],
      "execution_count": 0,
      "outputs": []
    }
  ]
}